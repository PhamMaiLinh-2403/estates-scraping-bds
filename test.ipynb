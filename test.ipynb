{
 "cells": [
  {
   "cell_type": "code",
   "execution_count": 1,
   "id": "f78cfc95",
   "metadata": {},
   "outputs": [],
   "source": [
    "import pandas as pd\n",
    "import numpy as np"
   ]
  },
  {
   "cell_type": "code",
   "execution_count": 4,
   "id": "f82fe31f",
   "metadata": {},
   "outputs": [],
   "source": [
    "listing_details = pd.read_csv('output/listing_details.csv')\n",
    "listing_details.drop(['latitude', 'longitude', 'image_urls'], axis=1, inplace=True)"
   ]
  },
  {
   "cell_type": "code",
   "execution_count": 7,
   "id": "3e9ab24f",
   "metadata": {},
   "outputs": [
    {
     "data": {
      "text/plain": [
       "32461"
      ]
     },
     "execution_count": 7,
     "metadata": {},
     "output_type": "execute_result"
    }
   ],
   "source": [
    "listing_details.shape[0]"
   ]
  },
  {
   "cell_type": "code",
   "execution_count": 6,
   "id": "af18b717",
   "metadata": {},
   "outputs": [
    {
     "name": "stdout",
     "output_type": "stream",
     "text": [
      "<class 'pandas.core.frame.DataFrame'>\n",
      "RangeIndex: 18534 entries, 0 to 18533\n",
      "Data columns (total 29 columns):\n",
      " #   Column                                Non-Null Count  Dtype  \n",
      "---  ------                                --------------  -----  \n",
      " 0   Tỉnh/Thành phố                        18534 non-null  object \n",
      " 1   Thành phố/Quận/Huyện/Thị xã           18534 non-null  object \n",
      " 2   Xã/Phường/Thị trấn                    18321 non-null  object \n",
      " 3   Đường phố                             15355 non-null  object \n",
      " 4   Chi tiết                              18534 non-null  object \n",
      " 5   Nguồn thông tin                       18534 non-null  object \n",
      " 6   Tình trạng giao dịch                  18534 non-null  object \n",
      " 7   Thời điểm giao dịch/rao bán           18524 non-null  object \n",
      " 8   Thông tin liên hệ                     0 non-null      float64\n",
      " 9   Giá rao bán/giao dịch                 17012 non-null  float64\n",
      " 10  Loại đơn giá (đ/m2 hoặc đ/m ngang)    18534 non-null  object \n",
      " 11  Số tầng công trình                    18534 non-null  int64  \n",
      " 12  Tổng diện tích sàn                    613 non-null    float64\n",
      " 13  Đơn giá xây dựng                      18534 non-null  int64  \n",
      " 14  Năm xây dựng                          0 non-null      float64\n",
      " 15  Chất lượng còn lại                    18534 non-null  float64\n",
      " 16  Diện tích đất (m2)                    18534 non-null  float64\n",
      " 17  Kích thước mặt tiền (m)               18534 non-null  float64\n",
      " 18  Kích thước chiều dài (m)              18534 non-null  float64\n",
      " 19  Số mặt tiền tiếp giáp                 18534 non-null  int64  \n",
      " 20  Hình dạng                             18534 non-null  object \n",
      " 21  Độ rộng ngõ/ngách nhỏ nhất (m)        12449 non-null  float64\n",
      " 22  Khoảng cách tới trục đường chính (m)  18534 non-null  float64\n",
      " 23  Mục đích sử dụng đất                  18534 non-null  object \n",
      " 24  Yếu tố khác                           18484 non-null  object \n",
      " 25  Tọa độ (vĩ độ)                        18533 non-null  float64\n",
      " 26  Tọa độ (kinh độ)                      18533 non-null  float64\n",
      " 27  Hình ảnh của bài đăng                 18534 non-null  object \n",
      " 28  description                           18524 non-null  object \n",
      "dtypes: float64(12), int64(3), object(14)\n",
      "memory usage: 4.1+ MB\n"
     ]
    }
   ],
   "source": [
    "listing_details_cleaned = pd.read_csv('output/listing_details_cleaned.csv')\n",
    "listing_details_cleaned.info()"
   ]
  },
  {
   "cell_type": "code",
   "execution_count": 10,
   "id": "06014aef",
   "metadata": {},
   "outputs": [
    {
     "name": "stdout",
     "output_type": "stream",
     "text": [
      "<class 'pandas.core.frame.DataFrame'>\n",
      "RangeIndex: 18534 entries, 0 to 18533\n",
      "Data columns (total 29 columns):\n",
      " #   Column                                Non-Null Count  Dtype  \n",
      "---  ------                                --------------  -----  \n",
      " 0   Tỉnh/Thành phố                        18534 non-null  object \n",
      " 1   Thành phố/Quận/Huyện/Thị xã           18534 non-null  object \n",
      " 2   Xã/Phường/Thị trấn                    18321 non-null  object \n",
      " 3   Đường phố                             15355 non-null  object \n",
      " 4   Chi tiết                              18534 non-null  object \n",
      " 5   url                                   18534 non-null  object \n",
      " 6   Tình trạng giao dịch                  18534 non-null  object \n",
      " 7   Thời điểm giao dịch/rao bán           18524 non-null  object \n",
      " 8   Thông tin liên hệ                     0 non-null      float64\n",
      " 9   Giá rao bán/giao dịch                 17012 non-null  float64\n",
      " 10  Loại đơn giá (đ/m2 hoặc đ/m ngang)    18534 non-null  object \n",
      " 11  Số tầng công trình                    18534 non-null  int64  \n",
      " 12  Tổng diện tích sàn                    613 non-null    float64\n",
      " 13  Đơn giá xây dựng                      18534 non-null  int64  \n",
      " 14  Năm xây dựng                          0 non-null      float64\n",
      " 15  Chất lượng còn lại                    18534 non-null  float64\n",
      " 16  Diện tích đất (m2)                    18534 non-null  float64\n",
      " 17  Kích thước mặt tiền (m)               18534 non-null  float64\n",
      " 18  Kích thước chiều dài (m)              18534 non-null  float64\n",
      " 19  Số mặt tiền tiếp giáp                 18534 non-null  int64  \n",
      " 20  Hình dạng                             18534 non-null  object \n",
      " 21  Độ rộng ngõ/ngách nhỏ nhất (m)        12449 non-null  float64\n",
      " 22  Khoảng cách tới trục đường chính (m)  18534 non-null  float64\n",
      " 23  Mục đích sử dụng đất                  18534 non-null  object \n",
      " 24  Yếu tố khác                           18484 non-null  object \n",
      " 25  Tọa độ (vĩ độ)                        18533 non-null  float64\n",
      " 26  Tọa độ (kinh độ)                      18533 non-null  float64\n",
      " 27  Hình ảnh của bài đăng                 18534 non-null  object \n",
      " 28  description                           18524 non-null  object \n",
      "dtypes: float64(12), int64(3), object(14)\n",
      "memory usage: 4.1+ MB\n"
     ]
    }
   ],
   "source": [
    "listing_details_cleaned.rename(columns={'Nguồn thông tin': 'url'}, inplace=True)\n",
    "listing_details_cleaned.info()"
   ]
  },
  {
   "cell_type": "code",
   "execution_count": 12,
   "id": "8d05e9d1",
   "metadata": {},
   "outputs": [
    {
     "name": "stdout",
     "output_type": "stream",
     "text": [
      "<class 'pandas.core.frame.DataFrame'>\n",
      "RangeIndex: 18536 entries, 0 to 18535\n",
      "Data columns (total 35 columns):\n",
      " #   Column                                Non-Null Count  Dtype  \n",
      "---  ------                                --------------  -----  \n",
      " 0   Tỉnh/Thành phố                        18536 non-null  object \n",
      " 1   Thành phố/Quận/Huyện/Thị xã           18536 non-null  object \n",
      " 2   Xã/Phường/Thị trấn                    18323 non-null  object \n",
      " 3   Đường phố                             15357 non-null  object \n",
      " 4   Chi tiết                              18536 non-null  object \n",
      " 5   url                                   18536 non-null  object \n",
      " 6   Tình trạng giao dịch                  18536 non-null  object \n",
      " 7   Thời điểm giao dịch/rao bán           18526 non-null  object \n",
      " 8   Thông tin liên hệ                     0 non-null      float64\n",
      " 9   Giá rao bán/giao dịch                 17014 non-null  float64\n",
      " 10  Loại đơn giá (đ/m2 hoặc đ/m ngang)    18536 non-null  object \n",
      " 11  Số tầng công trình                    18536 non-null  int64  \n",
      " 12  Tổng diện tích sàn                    613 non-null    float64\n",
      " 13  Đơn giá xây dựng                      18536 non-null  int64  \n",
      " 14  Năm xây dựng                          0 non-null      float64\n",
      " 15  Chất lượng còn lại                    18536 non-null  float64\n",
      " 16  Diện tích đất (m2)                    18536 non-null  float64\n",
      " 17  Kích thước mặt tiền (m)               18536 non-null  float64\n",
      " 18  Kích thước chiều dài (m)              18536 non-null  float64\n",
      " 19  Số mặt tiền tiếp giáp                 18536 non-null  int64  \n",
      " 20  Hình dạng                             18536 non-null  object \n",
      " 21  Độ rộng ngõ/ngách nhỏ nhất (m)        12451 non-null  float64\n",
      " 22  Khoảng cách tới trục đường chính (m)  18536 non-null  float64\n",
      " 23  Mục đích sử dụng đất                  18536 non-null  object \n",
      " 24  Yếu tố khác                           18486 non-null  object \n",
      " 25  Tọa độ (vĩ độ)                        18535 non-null  float64\n",
      " 26  Tọa độ (kinh độ)                      18535 non-null  float64\n",
      " 27  Hình ảnh của bài đăng                 18536 non-null  object \n",
      " 28  description_x                         18526 non-null  object \n",
      " 29  title                                 18536 non-null  object \n",
      " 30  short_address                         18536 non-null  object \n",
      " 31  address_parts                         18536 non-null  object \n",
      " 32  main_info                             18536 non-null  object \n",
      " 33  description_y                         18526 non-null  object \n",
      " 34  other_info                            18536 non-null  object \n",
      "dtypes: float64(12), int64(3), object(20)\n",
      "memory usage: 4.9+ MB\n"
     ]
    }
   ],
   "source": [
    "cleaned = pd.merge(listing_details_cleaned, listing_details, how='left', on='url')\n",
    "cleaned.info()"
   ]
  },
  {
   "cell_type": "code",
   "execution_count": null,
   "id": "f894a3b8",
   "metadata": {},
   "outputs": [],
   "source": []
  }
 ],
 "metadata": {
  "kernelspec": {
   "display_name": "estate-scraping",
   "language": "python",
   "name": "python3"
  },
  "language_info": {
   "codemirror_mode": {
    "name": "ipython",
    "version": 3
   },
   "file_extension": ".py",
   "mimetype": "text/x-python",
   "name": "python",
   "nbconvert_exporter": "python",
   "pygments_lexer": "ipython3",
   "version": "3.10.18"
  }
 },
 "nbformat": 4,
 "nbformat_minor": 5
}
